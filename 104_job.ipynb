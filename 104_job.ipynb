{
 "cells": [
  {
   "cell_type": "markdown",
   "metadata": {},
   "source": [
    "# 打開or關閉瀏覽器，完成時間一樣，共花費 32 分"
   ]
  },
  {
   "cell_type": "code",
   "execution_count": 1,
   "metadata": {},
   "outputs": [],
   "source": [
    "# 搜尋關鍵字 - python / 數據分析 / 商業分析 / tableau / power bi\n",
    "keyword = 'python'\n",
    "url = 'https://www.104.com.tw/jobs/search/?keyword={}'.format(keyword)"
   ]
  },
  {
   "cell_type": "code",
   "execution_count": 2,
   "metadata": {},
   "outputs": [],
   "source": [
    "# 使用webdriver-manager，自動下載chromedriver，避免每次版本控制的問題\n",
    "# pip install webdriver-manager"
   ]
  },
  {
   "cell_type": "code",
   "execution_count": 3,
   "metadata": {},
   "outputs": [],
   "source": [
    "import re\n",
    "import requests\n",
    "from bs4 import BeautifulSoup as bs\n",
    "from webdriver_manager.chrome import ChromeDriverManager\n",
    "from selenium.webdriver.chrome.service import Service\n",
    "from selenium import webdriver\n",
    "from selenium.webdriver.chrome.options import Options\n",
    "from selenium.webdriver.common.by import By\n",
    "import pandas as pd\n",
    "import time\n",
    "from concurrent.futures import ThreadPoolExecutor\n",
    "import winsound"
   ]
  },
  {
   "cell_type": "code",
   "execution_count": 4,
   "metadata": {},
   "outputs": [],
   "source": [
    "start = time.time()"
   ]
  },
  {
   "cell_type": "code",
   "execution_count": 5,
   "metadata": {},
   "outputs": [],
   "source": [
    "chrome_options = Options()\n",
    "chrome_options.add_argument('--headless')           # 指定headless，并且禁用gpu\n",
    "chrome_options.add_argument('--disable-gpu')\n",
    "chrome_options.add_argument('window-size=1920,1080') # 設定瀏覽器尺寸，假如無法滾動的話\n",
    "\n",
    "service = Service(ChromeDriverManager().install())\n",
    "driver = webdriver.Chrome(service=service, options=chrome_options)\n",
    "\n",
    "driver.get(url)\n",
    "driver.maximize_window()\n",
    "\n",
    "# 抓取總共有幾頁\n",
    "text = driver.find_element(By.CSS_SELECTOR, '#js-job-header > div.b-float-right > label:nth-child(1) > select').text\n",
    "total_page = int(re.findall(r'\\d+', text)[-1])"
   ]
  },
  {
   "cell_type": "code",
   "execution_count": 6,
   "metadata": {},
   "outputs": [],
   "source": [
    "# 自動翻頁\n",
    "def scroll(driver, timeout):\n",
    "    scroll_pause_time = timeout\n",
    "\n",
    "    # Get scroll height\n",
    "    last_height = driver.execute_script('return document.body.scrollHeight')\n",
    "\n",
    "    while True:\n",
    "        # Scroll down to bottom\n",
    "        driver.execute_script('window.scrollTo(0, document.body.scrollHeight)')\n",
    "\n",
    "        # Wait to load page\n",
    "        time.sleep(scroll_pause_time)\n",
    "\n",
    "        # Calculate new scroll height and compare with last scroll height\n",
    "        new_height = driver.execute_script('return document.body.scrollHeight')\n",
    "        if new_height == last_height:\n",
    "            # If heights are the same it will exit the function\n",
    "            break\n",
    "        last_height = new_height"
   ]
  },
  {
   "cell_type": "code",
   "execution_count": 7,
   "metadata": {},
   "outputs": [],
   "source": [
    "# 遇到手動翻頁時，自動判斷button的css selector數字，方便後續點擊正確的按鈕\n",
    "# 如果無法翻頁，需要調整數字300-4000，要涵蓋更大的範圍\n",
    "# 最多150頁*每頁22筆 = 3300，再加上第16頁的326，所以設定4000，如果未來頁數增加，數字要再調大\n",
    "def button():\n",
    "    for i in range(300, 4000):\n",
    "        try:\n",
    "            if '手動載入' in driver.find_element(by=By.CSS_SELECTOR, value='#js-job-content > div:nth-child({}) > button'.format(i)).text:\n",
    "                return int(i)\n",
    "        except:\n",
    "            pass\n",
    "    \n",
    "    # 如果沒有出現手動載入按鈕，就回傳0\n",
    "    return int(0)"
   ]
  },
  {
   "cell_type": "code",
   "execution_count": 8,
   "metadata": {},
   "outputs": [],
   "source": [
    "# 自動翻頁只能到15頁，超過15頁要手動載入\n",
    "# 0.5秒翻頁太快，會爬不到所有資料\n",
    "scroll(driver, 1)"
   ]
  },
  {
   "cell_type": "code",
   "execution_count": 9,
   "metadata": {},
   "outputs": [],
   "source": [
    "# 手動載入，自動翻頁\n",
    "for i in range(button(), total_page*22+1, 22):\n",
    "    # 如果不需要翻頁，就跳出迴圈\n",
    "    if button() == 0:\n",
    "        break\n",
    "    # 如果需要翻頁，就繼續點擊手動載入按鈕\n",
    "    try:\n",
    "        driver.find_element(by=By.CSS_SELECTOR, value='div:nth-child({}) > button'.format(i)).click()\n",
    "    except:\n",
    "        pass\n",
    "\n",
    "    scroll(driver, 1)"
   ]
  },
  {
   "cell_type": "code",
   "execution_count": null,
   "metadata": {},
   "outputs": [],
   "source": [
    "company = []\n",
    "industry = []\n",
    "job_name = []\n",
    "location = []\n",
    "salary = []\n",
    "requirement = []\n",
    "education = []\n",
    "descirption = []\n",
    "link = []"
   ]
  },
  {
   "cell_type": "code",
   "execution_count": null,
   "metadata": {},
   "outputs": [],
   "source": [
    "# 同步處理\n",
    "# 每一頁的職缺有22個，最多爬取150頁，3300筆資料，再扣掉廣告\n",
    "for i in range(1, total_page*22+1):\n",
    "    try:\n",
    "        job_name_tag = driver.find_element(By.CSS_SELECTOR, \"article:nth-child({}) > div.b-block__left > h2 > a\".format(i)).text\n",
    "        job_name.append(job_name_tag)\n",
    "\n",
    "        link_tag = driver.find_element(By.CSS_SELECTOR, \"article:nth-child({}) > div.b-block__left > h2 > a\".format(i)).get_attribute(\"href\")\n",
    "        link.append(link_tag)\n",
    "\n",
    "        location_tag = driver.find_element(By.CSS_SELECTOR, 'article:nth-child({}) > div.b-block__left > ul.b-list-inline.b-clearfix.job-list-intro.b-content > li:nth-child(1)'.format(i)).text\n",
    "        location.append(location_tag)\n",
    "\n",
    "        requirement_tag = driver.find_element(By.CSS_SELECTOR, 'article:nth-child({}) > div.b-block__left > ul.b-list-inline.b-clearfix.job-list-intro.b-content > li:nth-child(3)'.format(i)).text\n",
    "        requirement.append(requirement_tag)\n",
    "\n",
    "        try:\n",
    "            company_name_tag = driver.find_element(By.CSS_SELECTOR, '#js-job-content > article:nth-child({}) > div.b-block__left > ul:nth-child(2) > li:nth-child(2) > a'.format(i)).text\n",
    "            company.append(company_name_tag)\n",
    "        except:\n",
    "            company.append(\"Null\")\n",
    "\n",
    "        try:\n",
    "            industry_tag = driver.find_element(By.CSS_SELECTOR, 'article:nth-child({}) > div.b-block__left > ul:nth-child(2) > li:nth-child(4)'.format(i)).text\n",
    "            industry.append(industry_tag)\n",
    "        except:\n",
    "            industry.append(\"Null\")\n",
    "\n",
    "        try:\n",
    "            education_tag = driver.find_element(By.CSS_SELECTOR, 'article:nth-child({}) > div.b-block__left > ul.b-list-inline.b-clearfix.job-list-intro.b-content > li:nth-child(5)'.format(i)).text\n",
    "            education.append(education_tag)\n",
    "        except:\n",
    "            education.append(\"Null\")\n",
    "\n",
    "        try:\n",
    "            descirption_tag = driver.find_element(By.CSS_SELECTOR, 'article:nth-child({}) > div.b-block__left > p'.format(i)).text\n",
    "            descirption.append(descirption_tag)\n",
    "        except:\n",
    "            descirption.append(\"Null\")\n",
    "\n",
    "        try:\n",
    "            salary_tag = driver.find_element(By.CSS_SELECTOR, '#js-job-content > article:nth-child({}) > div.b-block__left > div > a:nth-child(1)'.format(i)).text\n",
    "            salary.append(salary_tag)\n",
    "        except:\n",
    "            salary_tag = driver.find_element(By.CSS_SELECTOR, \"#js-job-content > article:nth-child({}) > div.b-block__left > div > span\".format(i)).text\n",
    "            salary.append(salary_tag)\n",
    "            \n",
    "        print(\"第\" + str(i) + '職缺爬完')\n",
    "\n",
    "    except:\n",
    "        pass\n",
    "        print(\"第\" + str(i) + '職缺不存在 or 廣告')"
   ]
  },
  {
   "cell_type": "code",
   "execution_count": null,
   "metadata": {},
   "outputs": [],
   "source": [
    "print(len(company))\n",
    "print(len(industry))\n",
    "print(len(job_name))\n",
    "print(len(location))\n",
    "print(len(salary))\n",
    "print(len(requirement))\n",
    "print(len(education))   \n",
    "print(len(descirption)) \n",
    "print(len(link))"
   ]
  },
  {
   "cell_type": "code",
   "execution_count": null,
   "metadata": {},
   "outputs": [],
   "source": [
    "data = {\n",
    "    'company':      company,\n",
    "    'industry':     industry,\n",
    "    'job_name':     job_name,\n",
    "    'location':     location,\n",
    "    'salary':       salary,\n",
    "    'requirement':  requirement,\n",
    "    'education':    education,\n",
    "    'descirption':  descirption,\n",
    "    'link':         link,\n",
    "}\n",
    "\n",
    "df = pd.DataFrame(data)\n",
    "# link一樣工作內容就會一樣，刪除重複的工作\n",
    "df.drop_duplicates(subset='link',inplace=True)   \n",
    "df.to_excel('104_{}.xlsx'.format(keyword), sheet_name= keyword)"
   ]
  },
  {
   "cell_type": "code",
   "execution_count": null,
   "metadata": {
    "tags": []
   },
   "outputs": [],
   "source": [
    "end = time.time()\n",
    "print('完成共花費',round((end - start)/60,2),'分')"
   ]
  },
  {
   "cell_type": "code",
   "execution_count": null,
   "metadata": {},
   "outputs": [],
   "source": [
    "winsound.Beep(300,500)\n",
    "winsound.Beep(360,500)\n",
    "winsound.Beep(500,500)\n",
    "winsound.PlaySound('alert', winsound.SND_ASYNC)"
   ]
  },
  {
   "cell_type": "code",
   "execution_count": null,
   "metadata": {},
   "outputs": [],
   "source": [
    "# # 非同步處理，薪資順序會亂掉，不建議使用，時間並沒有快多少\n",
    "# def scrape_job_details(i):\n",
    "#     try:\n",
    "#         job_name_tag = driver.find_element(By.CSS_SELECTOR, \"article:nth-child({}) > div.b-block__left > h2 > a\".format(i)).text\n",
    "#         job_name.append(job_name_tag)\n",
    "\n",
    "#         link_tag = driver.find_element(By.CSS_SELECTOR, \"article:nth-child({}) > div.b-block__left > h2 > a\".format(i)).get_attribute(\"href\")\n",
    "#         link.append(link_tag)\n",
    "\n",
    "#         location_tag = driver.find_element(By.CSS_SELECTOR, 'article:nth-child({}) > div.b-block__left > ul.b-list-inline.b-clearfix.job-list-intro.b-content > li:nth-child(1)'.format(i)).text\n",
    "#         location.append(location_tag)\n",
    "\n",
    "#         requirement_tag = driver.find_element(By.CSS_SELECTOR, 'article:nth-child({}) > div.b-block__left > ul.b-list-inline.b-clearfix.job-list-intro.b-content > li:nth-child(3)'.format(i)).text\n",
    "#         requirement.append(requirement_tag)\n",
    "\n",
    "#         try:\n",
    "#             company_name_tag = driver.find_element(By.CSS_SELECTOR, '#js-job-content > article:nth-child({}) > div.b-block__left > ul:nth-child(2) > li:nth-child(2) > a'.format(i)).text\n",
    "#             company.append(company_name_tag)\n",
    "#         except:\n",
    "#             company.append(\"Null\")\n",
    "\n",
    "#         try:\n",
    "#             industry_tag = driver.find_element(By.CSS_SELECTOR, 'article:nth-child({}) > div.b-block__left > ul:nth-child(2) > li:nth-child(4)'.format(i)).text\n",
    "#             industry.append(industry_tag)\n",
    "#         except:\n",
    "#             industry.append(\"Null\")\n",
    "\n",
    "#         try:\n",
    "#             education_tag = driver.find_element(By.CSS_SELECTOR, 'article:nth-child({}) > div.b-block__left > ul.b-list-inline.b-clearfix.job-list-intro.b-content > li:nth-child(5)'.format(i)).text\n",
    "#             education.append(education_tag)\n",
    "#         except:\n",
    "#             education.append(\"Null\")\n",
    "\n",
    "#         try:\n",
    "#             descirption_tag = driver.find_element(By.CSS_SELECTOR, 'article:nth-child({}) > div.b-block__left > p'.format(i)).text\n",
    "#             descirption.append(descirption_tag)\n",
    "#         except:\n",
    "#             descirption.append(\"Null\")\n",
    "\n",
    "#         try:\n",
    "#             salary_tag = driver.find_element(By.CSS_SELECTOR, '#js-job-content > article:nth-child({}) > div.b-block__left > div > a:nth-child(1)'.format(i)).text\n",
    "#             salary.append(salary_tag)\n",
    "#         except:\n",
    "#             salary_tag = driver.find_element(By.CSS_SELECTOR, \"#js-job-content > article:nth-child({}) > div.b-block__left > div > span\".format(i)).text\n",
    "#             salary.append(salary_tag)\n",
    "#         print(\"第\" + str(i) + '職缺爬完')\n",
    "\n",
    "#     except:\n",
    "#         pass\n",
    "#         print(\"第\" + str(i) + '職缺不存在 or 廣告')\n",
    "\n",
    "# # Create a ThreadPoolExecutor with max_workers set to the number of threads you want to use\n",
    "# with ThreadPoolExecutor(max_workers=8) as executor:\n",
    "#     # Submit the scraping tasks to the executor\n",
    "#     futures = [executor.submit(scrape_job_details, i) for i in range(1, total_page*22+1)]\n",
    "\n",
    "#     # Wait for all tasks to complete\n",
    "#     for future in futures:\n",
    "#         future.result()\n"
   ]
  }
 ],
 "metadata": {
  "interpreter": {
   "hash": "67d3bf8e72827a4be68cb62ac99f5cd87ff7afd33a651b03d0280d0969ab38f1"
  },
  "kernelspec": {
   "display_name": "Python 3.8.3 64-bit ('base': conda)",
   "name": "python3"
  },
  "language_info": {
   "codemirror_mode": {
    "name": "ipython",
    "version": 3
   },
   "file_extension": ".py",
   "mimetype": "text/x-python",
   "name": "python",
   "nbconvert_exporter": "python",
   "pygments_lexer": "ipython3",
   "version": "3.9.7"
  },
  "orig_nbformat": 2
 },
 "nbformat": 4,
 "nbformat_minor": 2
}
