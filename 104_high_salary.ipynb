{
 "cells": [
  {
   "cell_type": "code",
   "execution_count": 1,
   "metadata": {},
   "outputs": [],
   "source": [
    "import requests\n",
    "from bs4 import BeautifulSoup as bs\n",
    "from selenium import webdriver\n",
    "import pandas as pd\n",
    "import time\n",
    "import winsound"
   ]
  },
  {
   "cell_type": "code",
   "execution_count": 2,
   "metadata": {},
   "outputs": [],
   "source": [
    "start = time.time()"
   ]
  },
  {
   "cell_type": "markdown",
   "metadata": {},
   "source": [
    "# 尋找上市櫃公司完整名稱\n",
    "https://mops.twse.com.tw/mops/web/t51sb01\n",
    "如果檔案存在的話，就直接讀取檔案，不用再爬取一次\n",
    "檔案必須用selenium爬取，因為網頁是用javascript產生的，檔名隨時會更改"
   ]
  },
  {
   "cell_type": "code",
   "execution_count": 3,
   "metadata": {},
   "outputs": [],
   "source": [
    "# 年薪中位數100萬以上，不論員工人數\n",
    "high_company_name_list = [\n",
    "    '聯詠',\t'鴻準',\t'聯發科',\t'原相',\t'揚智',\t'智擎',\t'新潤',\t'群聯',\t'瑞昱',\t'華固',\t'創意',\t'和泰車',\t'力旺',\t'聯陽',\t'M31',\t'矽創',\t'台積電',\t'義隆',\t'晶豪科',\t'致新',\t'凌通',\t'鴻海',\t'是方',\t'杰力',\t'群光',\t'九暘',\t'宏觀',\t'中華電',\t'環球晶',\t'中鋼',\t'祥碩',\t'廣宇',\t'致伸',\t'神基',\t'智原',\t'聚積',\t'菱光',\t'智易',\t'創惟',\t'敦泰',\t'新興',\t'亞泰',\t'中聯資源',\t'松翰',\t'台苯',\t'愛普',\t'晶心科',\t'緯穎',\t'威盛',\t'台塑化',\t'神盾',\t'華票',\t'台塑',\t'南帝',\t'大統益',\t'唐榮公司',\t'順達',\t'信驊',\t'台化',\t'凌陽',\t'華晶科',\t'合庫金',\t'漢唐',\t'新海',\t'華航',\t'南亞',\t'裕日車',\t'通嘉',\t'亞聚',\t'佳世達',\t'弘塑',\t'達興材料',\t'中碳',\t'華邦電',\t'勤誠',\t'精成科',\t'群電',\t'晶相光',\t'彰銀',\t'天鈺',\t'華碩',\t'大中',\t'鉅邁',\t'南亞科',\t'基泰',\t'中信金',\t'台達電',\t'東生華',\t'至上',\t'廣達',\t'上海商銀',\t'嘉威',\t'國喬',\t'金麗科',\t'迅杰',\t'裕民',\t'宏普',\t'兆豐金',\t'第一金',\t'嘉泥',\t'高雄銀',\t'宏碁',\t'應廣',\t'茂綸',\t'同亨',\t'盛群',\t'展匯科',\t'台肥',\t'矽統',\t'緯創',\t'崇越電',\t'偉詮電',\t'九齊',\t'亞泥',\t'台船',\t'微星',\t'旭隼',\t'蔚華科',\t'聚陽',\t'新唐',\t'立積',\t'中再保',\t'聯傑',\t'中航',\t'萬海',\t'聖暉',\t'仁寶',\t'崇越',\t'茂達',\t'華擎',\t'光寶科',\t'昇陽',\t'鈊象',\t'華南金',\t'逸達',\t'華立',\t'驊訊',\t'中鼎',\t'國泰金',\t'台翰',\t'富邦金',\t'遠東銀',\t'松上',\t'擎亞',\t'大聯大',\t'台汽電',\t'台開',\t'順藥',\t'臺企銀',\t'凡甲',\t'安國',\t'晶宏',\t'台勝科',\t'長榮航',\t'台聚',\t'億豐',\t'統一',\t'樺漢',\t'亞信',\t'龍邦',\t'益登',\t'志超',\t'藍天',\t'三圓',\t'中光電',\t'通泰',\t'王道銀行',\t'嘉澤',\t'文曄',\t'廣明',\n",
    "]"
   ]
  },
  {
   "cell_type": "code",
   "execution_count": 4,
   "metadata": {},
   "outputs": [],
   "source": [
    "# 年薪中位數85萬~100萬，員工人數破百\n",
    "middle_company_name_list = [\n",
    "    '類比科',\t'神達',\t'台達化',\t'光菱',\t'佳能',\t'新普',\t'和碩',\t'旺宏',\t'資通',\t'海悅',\t'欣泰',\t'達方',\t'東洋',\t'鈺創',\t'台新金',\t'元大期貨',\t'聯電',\t'圓剛',\t'永豐金',\t'中華',\t'一零四',\t'訊連',\t'國建',\t'禾瑞亞',\t'玉山金',\t'裕融',\t'達欣工',\t'威剛',\t'帆宣',\t'仲琦',\t'中鋼構',\t'大台北',\t'均豪',\t'友訊',\t'萬潤',\t'聯成',\t'鑫創',\t'長榮',\t'友華',\t'碩天',\t'裕隆',\t'關貿',\t'台中銀',\t'豐泰',\t'台微體',\t'智崴',\t'永大',\t'瑞穎',\t'中菲',\t'瑞軒',\t'安勤',\t'華夏',\t'元太',\t'東友',\t'大塚',\t'英業達',\t'晉泰',\t'開發金',\t'世界',\t'台航',\t'正崴',\t'陽明',\t'牧德',\t'聰泰',\t'台灣大',\t'盟立',\t'金寶',\t'京鼎',\t'由田',\t'鼎天',\t'台橡',\t'東森',\t'漢翔',\t'威健',\t'雙鴻',\t'元大金',\t'穩懋',\t'東聯',\t'德律',\t'系微',\t'新鼎',\t'建漢',\t'盛餘',\t'和益',\t'敦陽科',\t'巨路',\t'精測',\t'喬鼎',\t'海華',\t'凌華',\t'朋億',\t'旭富',\t'台泥',\t'宏正',\t'安馳',\t'新產',\t'承業醫',\t'政伸',\t'居易',\t'偉訓',\t'旺矽',\t'大江',\t'豪勉',\t'閎康',\t'藥華藥',\t'研華',\t'致茂',\t'豐興',\t'崑鼎',\t'東和鋼鐵',\t'信錦',\n",
    "]"
   ]
  },
  {
   "cell_type": "code",
   "execution_count": 5,
   "metadata": {},
   "outputs": [],
   "source": [
    "# 建築營造年薪中位數80萬以上，不論員工人數\n",
    "construction_company_name_list = [\n",
    "    '新潤',\t'華固',\t'基泰',\t'宏普',\t'昇陽',\t'台開',\t'三圓',\t'鑫龍騰',\t'華建',\t'國建',\t'順天',\t'達欣工',\t'愛山林',\t'永信建',\t'理銘',\t'冠德',\t'士開',\t'京城',\t'國揚',\t'力麒',\t'遠雄',\t'隆大',\t'日勝生',\t'建國',\t'三豐',\t'宏璟',\n",
    "]"
   ]
  },
  {
   "cell_type": "code",
   "execution_count": 6,
   "metadata": {},
   "outputs": [],
   "source": [
    "search_company = []\n",
    "for i in high_company_name_list:\n",
    "    search_company.append('https://www.104.com.tw/jobs/search/?keyword={}'.format(i))"
   ]
  },
  {
   "cell_type": "code",
   "execution_count": 16,
   "metadata": {
    "tags": []
   },
   "outputs": [
    {
     "name": "stdout",
     "output_type": "stream",
     "text": [
      "第0爬完\t\t聯詠科技股份有限公司\n",
      "第1爬完\t\t鴻準精密工業股份有限公司\n",
      "第2爬完\t\t聯發科技股份有限公司\n",
      "第3爬完\t\t原相科技股份有限公司\n",
      "第4爬完\t\t揚智科技股份有限公司\n",
      "第5爬完\t\tFUNDAY_智擎數位科技股份有限公司\n",
      "第6爬完\t\t新潤興業股份有限公司\n",
      "第7爬完\t\tPhison Electronics Corp_群聯電子股份有限公司\n",
      "第8爬完\t\t瑞昱半導體股份有限公司\n",
      "第9爬完\t\t華固建設股份有限公司\n",
      "第10找不到\t創意\n",
      "第11爬完\t\t和泰車體製造股份有限公司\n",
      "第12爬完\t\t力旺電子股份有限公司\n",
      "第13爬完\t\t聯陽半導體股份有限公司\n",
      "第14爬完\t\tM31 Technology Corporation_円星科技股份有限公司\n",
      "第15爬完\t\t矽創電子股份有限公司\n",
      "第16爬完\t\t台灣積體電路製造股份有限公司(台積電)\n",
      "第17爬完\t\t義隆電子股份有限公司\n",
      "第18爬完\t\t晶豪科技股份有限公司\n",
      "第19爬完\t\t致新科技股份有限公司\n",
      "第20爬完\t\t凌通科技股份有限公司\n",
      "第21爬完\t\t鴻海保全股份有限公司\n",
      "第22爬完\t\t是方電訊股份有限公司(中華電信關係企業)\n",
      "第23爬完\t\t杰力科技股份有限公司\n",
      "第24爬完\t\t群光電能科技股份有限公司\n",
      "第25爬完\t\t九暘電子股份有限公司\n",
      "第26爬完\t\t宏觀眼科診所\n",
      "第27爬完\t\t中華電信股份有限公司\n",
      "第28爬完\t\t環球晶圓股份有限公司\n",
      "第29爬完\t\t中鋼機械股份有限公司\n",
      "第30爬完\t\t祥碩科技股份有限公司\n",
      "第31爬完\t\t廣宇科技股份有限公司\n",
      "第32爬完\t\t致伸科技股份有限公司\n",
      "第33爬完\t\t神基科技股份有限公司\n",
      "第34爬完\t\t智原科技股份有限公司\n",
      "第35爬完\t\tMacroblock_聚積科技股份有限公司\n",
      "第36爬完\t\t菱光科技股份有限公司\n",
      "第37爬完\t\t智易科技股份有限公司\n",
      "第38爬完\t\t創惟科技股份有限公司\n",
      "第39爬完\t\t敦泰保全股份有限公司\n",
      "第40找不到\t新興\n",
      "第41爬完\t\t亞泰金屬工業股份有限公司\n",
      "第42爬完\t\t中聯資源股份有限公司\n",
      "第43爬完\t\t松翰科技股份有限公司\n",
      "第44爬完\t\t台灣鋼鐵股份有限公司\n",
      "第45爬完\t\tEPSON_台灣愛普生科技股份有限公司\n",
      "第46爬完\t\t晶心科技股份有限公司\n",
      "第47爬完\t\t緯穎科技服務股份有限公司\n",
      "第48爬完\t\t威盛電子股份有限公司\n",
      "第49爬完\t\t台塑科騰化學有限公司\n",
      "第50爬完\t\t神盾應用股份有限公司\n",
      "第51爬完\t\t中華票券金融股份有限公司\n",
      "第52爬完\t\t台塑生醫科技股份有限公司\n",
      "第53爬完\t\t南帝化學工業股份有限公司\n",
      "第54爬完\t\t大統益股份有限公司\n",
      "第55找不到\t唐榮公司\n",
      "第56爬完\t\t順達機車行\n",
      "第57爬完\t\t信驊科技股份有限公司\n",
      "第58爬完\t\t明台化工股份有限公司\n",
      "第59爬完\t\t凌陽創新科技股份有限公司\n",
      "第60爬完\t\t華晶科技股份有限公司\n",
      "第61找不到\t合庫金\n",
      "第62爬完\t\t漢唐集成股份有限公司\n",
      "第63找不到\t新海\n",
      "第64爬完\t\t中華航空股份有限公司\n",
      "第65爬完\t\t南亞科技股份有限公司\n",
      "第66爬完\t\t裕隆集團_裕隆日產汽車股份有限公司\n",
      "第67爬完\t\t通嘉科技股份有限公司\n",
      "第68爬完\t\t亞聚會計師事務所\n",
      "第69爬完\t\t佳世達科技股份有限公司\n",
      "第70爬完\t\t弘塑科技股份有限公司\n",
      "第71爬完\t\t達興材料股份有限公司\n",
      "第72爬完\t\t中鋼碳素化學股份有限公司\n",
      "第73爬完\t\t華邦電子股份有限公司\n",
      "第74爬完\t\t勤誠興業股份有限公司\n",
      "第75找不到\t精成科\n",
      "第76爬完\t\t榮群電訊股份有限公司\n",
      "第77爬完\t\t晶相光電股份有限公司\n",
      "第78爬完\t\t彰銀創業投資股份有限公司\n",
      "第79爬完\t\t天鈺開發建設有限公司\n",
      "第80爬完\t\t華碩雲端股份有限公司\n",
      "第81爬完\t\t空中美語大中分校_台中市私立大中文理短期補習班\n",
      "第82爬完\t\t台灣鉅邁股份有限公司\n",
      "第83爬完\t\t南亞科技股份有限公司\n",
      "第84爬完\t\t信基泰式廚房\n",
      "第85爬完\t\t中信學校財團法人中信金融管理學院\n",
      "第86爬完\t\t台達電子工業股份有限公司 _DELTA ELECTRONICS INC.\n",
      "第87爬完\t\t東生華製藥股份有限公司\n",
      "第88爬完\t\t至上集團_至上電子股份有限公司\n",
      "第89爬完\t\t廣達電腦股份有限公司\n",
      "第90爬完\t\t上海商業儲蓄銀行股份有限公司\n",
      "第91爬完\t\t嘉威生活股份有限公司\n",
      "第92爬完\t\t國喬石油化學股份有限公司\n",
      "第93爬完\t\t金麗科技股份有限公司\n",
      "第94爬完\t\t迅杰科技股份有限公司\n",
      "第95爬完\t\t裕民汽車股份有限公司\n",
      "第96爬完\t\t宏普建設股份有限公司\n",
      "第97爬完\t\t兆豐金融控股股份有限公司\n",
      "第98爬完\t\t第一金證券股份有限公司\n",
      "第99爬完\t\t嘉新企業團_嘉新水泥股份有限公司\n",
      "第100找不到\t高雄銀\n",
      "第101爬完\t\t宏碁股份有限公司\n",
      "第102爬完\t\t應廣科技股份有限公司\n",
      "第103爬完\t\t茂綸股份有限公司\n",
      "第104爬完\t\t同亨科技股份有限公司\n",
      "第105爬完\t\t盛群半導體股份有限公司\n",
      "第106找不到\t展匯科\n",
      "第107爬完\t\t台肥集團子公司_台灣海洋深層水股份有限公司\n",
      "第108爬完\t\tSiS＿矽統科技股份有限公司\n",
      "第109爬完\t\t緯創軟體股份有限公司\n",
      "第110爬完\t\t崇越電通股份有限公司\n",
      "第111爬完\t\t偉詮電子股份有限公司\n",
      "第112爬完\t\t九齊科技股份有限公司\n",
      "第113爬完\t\t亞洲水泥股份有限公司\n",
      "第114爬完\t\t台船_台灣國際造船股份有限公司\n",
      "第115爬完\t\t微星科技股份有限公司\n",
      "第116爬完\t\t旭隼科技股份有限公司\n",
      "第117爬完\t\t蔚華科技股份有限公司\n",
      "第118爬完\t\t聚陽實業股份有限公司\n",
      "第119爬完\t\t新唐科技股份有限公司\n",
      "第120爬完\t\t立積電子股份有限公司\n",
      "第121爬完\t\t中央再保險股份有限公司\n",
      "第122爬完\t\t聯傑國際股份有限公司\n",
      "第123爬完\t\t中航物流股份有限公司\n",
      "第124爬完\t\t萬海航運股份有限公司\n",
      "第125爬完\t\t聖暉工程科技股份有限公司\n",
      "第126爬完\t\t仁寶電腦工業股份有限公司\n",
      "第127爬完\t\t崇越電通股份有限公司\n",
      "第128爬完\t\t茂達電子股份有限公司\n",
      "第129爬完\t\t華擎科技股份有限公司\n",
      "第130爬完\t\t光寶科技股份有限公司\n",
      "第131爬完\t\t昇陽國際半導體股份有限公司\n",
      "第132爬完\t\t鈊象電子股份有限公司\n",
      "第133爬完\t\t華南金資產管理股份有限公司\n",
      "第134找不到\t逸達\n",
      "第135爬完\t\t華立企業股份有限公司\n",
      "第136爬完\t\t驊訊電子企業股份有限公司\n",
      "第137爬完\t\t中鼎集團_中鼎工程股份有限公司\n",
      "第138爬完\t\t國泰金控_國泰金融控股股份有限公司\n",
      "第139爬完\t\t台翰精密科技股份有限公司\n",
      "第140爬完\t\t富邦金融控股股份有限公司\n",
      "第141找不到\t遠東銀\n",
      "第142爬完\t\t松上電子股份有限公司\n",
      "第143爬完\t\t擎亞電子股份有限公司\n",
      "第144爬完\t\t大聯大控股股份有限公司\n",
      "第145爬完\t\t台汽電綠能股份有限公司\n",
      "第146爬完\t\t興台開發有限公司\n",
      "第147找不到\t順藥\n",
      "第148找不到\t臺企銀\n",
      "第149爬完\t\t凡甲科技股份有限公司\n",
      "第150爬完\t\t安國國際科技股份有限公司(Alcor Micro,Corp.)\n",
      "第151爬完\t\t晶宏半導體股份有限公司\n",
      "第152找不到\t台勝科\n",
      "第153爬完\t\t長榮航太科技股份有限公司\n",
      "第154爬完\t\t台聚集團_台聚管理顧問股份有限公司\n",
      "第155爬完\t\t億豐布業\n",
      "第156爬完\t\t統一數網股份有限公司\n",
      "第157爬完\t\t樺漢科技股份有限公司_鴻海集團\n",
      "第158爬完\t\t亞信青菓行\n",
      "第159爬完\t\t龍邦國際興業股份有限公司\n",
      "第160爬完\t\tEDOM_益登科技股份有限公司\n",
      "第161爬完\t\t志超科技股份有限公司\n",
      "第162找不到\t藍天\n",
      "第163爬完\t\t三圓模型企業有限公司\n",
      "第164爬完\t\t華中光電科技有限公司\n",
      "第165爬完\t\t通泰積體電路股份有限公司\n",
      "第166爬完\t\tO-Bank_王道商業銀行股份有限公司\n",
      "第167爬完\t\t嘉澤端子工業股份有限公司\n",
      "第168爬完\t\t文曄集團_文曄科技股份有限公司\n",
      "第169爬完\t\t廣明實業股份有限公司\n",
      "共154家公司\n"
     ]
    }
   ],
   "source": [
    "company_dict = {}\n",
    "\n",
    "for index, item in enumerate(search_company):\n",
    "    res = requests.get(item)\n",
    "    time.sleep(0.5)\n",
    "    soup = bs(res.text, 'lxml')\n",
    "    try:\n",
    "        company_name = soup.select('div > a.d-none.d-md-inline.jb-link.jb-link-blue.jb-link-blue--visited.h2.mb-1')[0].text\n",
    "        company_main_page = soup.select('div > a.d-none.d-md-inline.jb-link.jb-link-blue.jb-link-blue--visited.h2.mb-1')[0]['href']\n",
    "        company_dict.update({company_name : company_main_page})\n",
    "        print('第' + str(index) + '爬完' + '\\t\\t' + company_name)\n",
    "    except:\n",
    "        pass\n",
    "        print('第' + str(index) + '找不到' + '\\t' + high_company_name_list[index])\n",
    "print('共' + str(len(company_dict)) + '家公司')"
   ]
  },
  {
   "cell_type": "code",
   "execution_count": 17,
   "metadata": {},
   "outputs": [
    {
     "ename": "AttributeError",
     "evalue": "'str' object has no attribute 'capabilities'",
     "output_type": "error",
     "traceback": [
      "\u001b[1;31m---------------------------------------------------------------------------\u001b[0m",
      "\u001b[1;31mAttributeError\u001b[0m                            Traceback (most recent call last)",
      "File \u001b[1;32mc:\\Users\\Cooper\\anaconda3\\lib\\site-packages\\selenium\\webdriver\\common\\driver_finder.py:38\u001b[0m, in \u001b[0;36mDriverFinder.get_path\u001b[1;34m(service, options)\u001b[0m\n\u001b[0;32m     37\u001b[0m \u001b[39mtry\u001b[39;00m:\n\u001b[1;32m---> 38\u001b[0m     path \u001b[39m=\u001b[39m SeleniumManager()\u001b[39m.\u001b[39;49mdriver_location(options) \u001b[39mif\u001b[39;00m path \u001b[39mis\u001b[39;00m \u001b[39mNone\u001b[39;00m \u001b[39melse\u001b[39;00m path\n\u001b[0;32m     39\u001b[0m \u001b[39mexcept\u001b[39;00m \u001b[39mException\u001b[39;00m \u001b[39mas\u001b[39;00m err:\n",
      "File \u001b[1;32mc:\\Users\\Cooper\\anaconda3\\lib\\site-packages\\selenium\\webdriver\\common\\selenium_manager.py:75\u001b[0m, in \u001b[0;36mSeleniumManager.driver_location\u001b[1;34m(self, options)\u001b[0m\n\u001b[0;32m     68\u001b[0m \u001b[39m\u001b[39m\u001b[39m\"\"\"Determines the path of the correct driver.\u001b[39;00m\n\u001b[0;32m     69\u001b[0m \n\u001b[0;32m     70\u001b[0m \u001b[39m:Args:\u001b[39;00m\n\u001b[0;32m     71\u001b[0m \u001b[39m - browser: which browser to get the driver path for.\u001b[39;00m\n\u001b[0;32m     72\u001b[0m \u001b[39m:Returns: The driver path to use\u001b[39;00m\n\u001b[0;32m     73\u001b[0m \u001b[39m\"\"\"\u001b[39;00m\n\u001b[1;32m---> 75\u001b[0m browser \u001b[39m=\u001b[39m options\u001b[39m.\u001b[39;49mcapabilities[\u001b[39m\"\u001b[39m\u001b[39mbrowserName\u001b[39m\u001b[39m\"\u001b[39m]\n\u001b[0;32m     77\u001b[0m args \u001b[39m=\u001b[39m [\u001b[39mstr\u001b[39m(\u001b[39mself\u001b[39m\u001b[39m.\u001b[39mget_binary()), \u001b[39m\"\u001b[39m\u001b[39m--browser\u001b[39m\u001b[39m\"\u001b[39m, browser]\n",
      "\u001b[1;31mAttributeError\u001b[0m: 'str' object has no attribute 'capabilities'",
      "\nDuring handling of the above exception, another exception occurred:\n",
      "\u001b[1;31mAttributeError\u001b[0m                            Traceback (most recent call last)",
      "\u001b[1;32md:\\OneDrive - Ming Chuan University\\python\\personal_project\\104\\104_high_salary.ipynb 儲存格 9\u001b[0m line \u001b[0;36m2\n\u001b[0;32m      <a href='vscode-notebook-cell:/d%3A/OneDrive%20-%20Ming%20Chuan%20University/python/personal_project/104/104_high_salary.ipynb#X10sZmlsZQ%3D%3D?line=0'>1</a>\u001b[0m driver_path \u001b[39m=\u001b[39m \u001b[39m\"\u001b[39m\u001b[39m\\\u001b[39m\u001b[39mDropbox\u001b[39m\u001b[39m\\\u001b[39m\u001b[39mpython\u001b[39m\u001b[39m\\\u001b[39m\u001b[39mselenium\u001b[39m\u001b[39m\\\u001b[39m\u001b[39mchromedriver\u001b[39m\u001b[39m\\\u001b[39m\u001b[39mchromedriver.exe\u001b[39m\u001b[39m\"\u001b[39m\n\u001b[1;32m----> <a href='vscode-notebook-cell:/d%3A/OneDrive%20-%20Ming%20Chuan%20University/python/personal_project/104/104_high_salary.ipynb#X10sZmlsZQ%3D%3D?line=1'>2</a>\u001b[0m driver \u001b[39m=\u001b[39m webdriver\u001b[39m.\u001b[39;49mChrome(driver_path)\n\u001b[0;32m      <a href='vscode-notebook-cell:/d%3A/OneDrive%20-%20Ming%20Chuan%20University/python/personal_project/104/104_high_salary.ipynb#X10sZmlsZQ%3D%3D?line=2'>3</a>\u001b[0m driver\u001b[39m.\u001b[39mget(\u001b[39m\"\u001b[39m\u001b[39mhttps://www.104.com.tw/jobs/main/\u001b[39m\u001b[39m\"\u001b[39m)\n\u001b[0;32m      <a href='vscode-notebook-cell:/d%3A/OneDrive%20-%20Ming%20Chuan%20University/python/personal_project/104/104_high_salary.ipynb#X10sZmlsZQ%3D%3D?line=3'>4</a>\u001b[0m driver\u001b[39m.\u001b[39mmaximize_window()\n",
      "File \u001b[1;32mc:\\Users\\Cooper\\anaconda3\\lib\\site-packages\\selenium\\webdriver\\chrome\\webdriver.py:45\u001b[0m, in \u001b[0;36mWebDriver.__init__\u001b[1;34m(self, options, service, keep_alive)\u001b[0m\n\u001b[0;32m     42\u001b[0m service \u001b[39m=\u001b[39m service \u001b[39mif\u001b[39;00m service \u001b[39melse\u001b[39;00m Service()\n\u001b[0;32m     43\u001b[0m options \u001b[39m=\u001b[39m options \u001b[39mif\u001b[39;00m options \u001b[39melse\u001b[39;00m Options()\n\u001b[1;32m---> 45\u001b[0m \u001b[39msuper\u001b[39;49m()\u001b[39m.\u001b[39;49m\u001b[39m__init__\u001b[39;49m(\n\u001b[0;32m     46\u001b[0m     DesiredCapabilities\u001b[39m.\u001b[39;49mCHROME[\u001b[39m\"\u001b[39;49m\u001b[39mbrowserName\u001b[39;49m\u001b[39m\"\u001b[39;49m],\n\u001b[0;32m     47\u001b[0m     \u001b[39m\"\u001b[39;49m\u001b[39mgoog\u001b[39;49m\u001b[39m\"\u001b[39;49m,\n\u001b[0;32m     48\u001b[0m     options,\n\u001b[0;32m     49\u001b[0m     service,\n\u001b[0;32m     50\u001b[0m     keep_alive,\n\u001b[0;32m     51\u001b[0m )\n",
      "File \u001b[1;32mc:\\Users\\Cooper\\anaconda3\\lib\\site-packages\\selenium\\webdriver\\chromium\\webdriver.py:51\u001b[0m, in \u001b[0;36mChromiumDriver.__init__\u001b[1;34m(self, browser_name, vendor_prefix, options, service, keep_alive)\u001b[0m\n\u001b[0;32m     47\u001b[0m \u001b[39mself\u001b[39m\u001b[39m.\u001b[39mvendor_prefix \u001b[39m=\u001b[39m vendor_prefix\n\u001b[0;32m     49\u001b[0m \u001b[39mself\u001b[39m\u001b[39m.\u001b[39mservice \u001b[39m=\u001b[39m service\n\u001b[1;32m---> 51\u001b[0m \u001b[39mself\u001b[39m\u001b[39m.\u001b[39mservice\u001b[39m.\u001b[39mpath \u001b[39m=\u001b[39m DriverFinder\u001b[39m.\u001b[39;49mget_path(\u001b[39mself\u001b[39;49m\u001b[39m.\u001b[39;49mservice, options)\n\u001b[0;32m     53\u001b[0m \u001b[39mself\u001b[39m\u001b[39m.\u001b[39mservice\u001b[39m.\u001b[39mstart()\n\u001b[0;32m     55\u001b[0m \u001b[39mtry\u001b[39;00m:\n",
      "File \u001b[1;32mc:\\Users\\Cooper\\anaconda3\\lib\\site-packages\\selenium\\webdriver\\common\\driver_finder.py:40\u001b[0m, in \u001b[0;36mDriverFinder.get_path\u001b[1;34m(service, options)\u001b[0m\n\u001b[0;32m     38\u001b[0m     path \u001b[39m=\u001b[39m SeleniumManager()\u001b[39m.\u001b[39mdriver_location(options) \u001b[39mif\u001b[39;00m path \u001b[39mis\u001b[39;00m \u001b[39mNone\u001b[39;00m \u001b[39melse\u001b[39;00m path\n\u001b[0;32m     39\u001b[0m \u001b[39mexcept\u001b[39;00m \u001b[39mException\u001b[39;00m \u001b[39mas\u001b[39;00m err:\n\u001b[1;32m---> 40\u001b[0m     msg \u001b[39m=\u001b[39m \u001b[39mf\u001b[39m\u001b[39m\"\u001b[39m\u001b[39mUnable to obtain driver for \u001b[39m\u001b[39m{\u001b[39;00moptions\u001b[39m.\u001b[39;49mcapabilities[\u001b[39m'\u001b[39m\u001b[39mbrowserName\u001b[39m\u001b[39m'\u001b[39m]\u001b[39m}\u001b[39;00m\u001b[39m using Selenium Manager.\u001b[39m\u001b[39m\"\u001b[39m\n\u001b[0;32m     41\u001b[0m     \u001b[39mraise\u001b[39;00m NoSuchDriverException(msg) \u001b[39mfrom\u001b[39;00m \u001b[39merr\u001b[39;00m\n\u001b[0;32m     43\u001b[0m \u001b[39mif\u001b[39;00m path \u001b[39mis\u001b[39;00m \u001b[39mNone\u001b[39;00m \u001b[39mor\u001b[39;00m \u001b[39mnot\u001b[39;00m Path(path)\u001b[39m.\u001b[39mis_file():\n",
      "\u001b[1;31mAttributeError\u001b[0m: 'str' object has no attribute 'capabilities'"
     ]
    }
   ],
   "source": [
    "driver_path = \"\\Dropbox\\python\\selenium\\chromedriver\\chromedriver.exe\"\n",
    "driver = webdriver.Chrome(driver_path)\n",
    "driver.get(\"https://www.104.com.tw/jobs/main/\")\n",
    "driver.maximize_window()"
   ]
  },
  {
   "cell_type": "code",
   "execution_count": null,
   "metadata": {},
   "outputs": [],
   "source": [
    "company = []\n",
    "job_name = []\n",
    "location = []\n",
    "salary = []\n",
    "requirement = []\n",
    "education = []\n",
    "descirption = []\n",
    "link = []"
   ]
  },
  {
   "cell_type": "code",
   "execution_count": null,
   "metadata": {
    "tags": []
   },
   "outputs": [],
   "source": [
    "for index, company_link in enumerate(company_dict.values()):\n",
    "    driver.get(company_link)\n",
    "    try:    #如果找不到每筆100頁選單，則總頁數為1頁\n",
    "        driver.find_element_by_css_selector('div:nth-child(2) > label > select > option:nth-child(5)').click()  #選每頁100筆\n",
    "        time.sleep(2)\n",
    "        total_page = int(driver.find_element_by_css_selector('div.col.main > div.joblist.rounded > div.joblist__footer > div > div:nth-child(2) > label > select').text[-5:-3]) #找出總共幾頁\n",
    "    except:\n",
    "        total_page = 1\n",
    "    for page in range(1, total_page + 1):  #從第1頁爬到最後一頁\n",
    "        job_link = company_link[:-24] + 'roleJobCat=0_0&area=0&page={}&pageSize=100&order=8&asc=0&jobsource=joblist_r_cust'.format(page)\n",
    "        driver.get(job_link)\n",
    "        time.sleep(1.5)\n",
    "\n",
    "        for i in range(1,104):            \n",
    "            try:    #如工作數量少於104個，則略過\n",
    "                job_name_tag = driver.find_element_by_css_selector(\"div:nth-child({}) > div > div.info.col > div > div.info-job.text-break.mb-2 > a\".format(i)).text\n",
    "                job_name.append(job_name_tag)\n",
    "\n",
    "                link_tag = driver.find_element_by_css_selector(\"div:nth-child({}) > div > div.info.col > div > div.info-job.text-break.mb-2 > a\".format(i)).get_attribute(\"href\")\n",
    "                link.append(link_tag)\n",
    "\n",
    "                location_tag = driver.find_element_by_css_selector('div:nth-child({}) > div > div.info.col > div > div.info-tags.mb-2.font-weight-bold.gray-deep-dark > span:nth-child(1)'.format(i)).text\n",
    "                location.append(location_tag)\n",
    "\n",
    "                requirement_tag = driver.find_element_by_css_selector('div:nth-child({}) > div > div.info.col > div > div.info-tags.mb-2.font-weight-bold.gray-deep-dark > span:nth-child(2)'.format(i)).text\n",
    "                requirement.append(requirement_tag)\n",
    "\n",
    "                education_tag = driver.find_element_by_css_selector('div:nth-child({}) > div > div.info.col > div > div.info-tags.mb-2.font-weight-bold.gray-deep-dark > span:nth-child(3)'.format(i)).text\n",
    "                education.append(education_tag)\n",
    "\n",
    "                descirption_tag = driver.find_element_by_css_selector('div:nth-child({}) > div > div.info.col > div > div.info-description.text-gray-darker.t4.text-break.mb-2.position-relative'.format(i)).text\n",
    "                descirption.append(descirption_tag)\n",
    "\n",
    "                salary_tag = driver.find_element_by_css_selector('div:nth-child({}) > div > div.info.col > div > div.info-othertags.mb-2 > span'.format(i)).text\n",
    "                salary.append(salary_tag)\n",
    "\n",
    "                company_name_tag = driver.find_element_by_css_selector('div:nth-child(1) > div.breadcrumb.py-3 > ol > li:nth-child(2) > div > span').text\n",
    "                company.append(company_name_tag)\n",
    "\n",
    "            except:\n",
    "                pass\n",
    "    print(\"第\" + str(index+1) + '公司爬完')"
   ]
  },
  {
   "cell_type": "code",
   "execution_count": null,
   "metadata": {},
   "outputs": [],
   "source": [
    "data = {\n",
    "    'company':      company,\n",
    "    'job_name':     job_name,\n",
    "    'location':     location,\n",
    "    'salary':       salary,\n",
    "    'requirement':  requirement,\n",
    "    'education':    education,\n",
    "    'descirption':  descirption,\n",
    "    'link':         link,\n",
    "}\n",
    "\n",
    "df = pd.DataFrame(data)\n",
    "df.drop_duplicates(subset='job_name',inplace=True)   #job_name一樣內容就會一樣，刪除重複的置頂工作\n",
    "df.to_excel('104.xlsx', sheet_name= '104')\n",
    "df"
   ]
  },
  {
   "cell_type": "code",
   "execution_count": null,
   "metadata": {
    "tags": []
   },
   "outputs": [],
   "source": [
    "print(len(company))\n",
    "print(len(job_name))\n",
    "print(len(location))\n",
    "print(len(salary))\n",
    "print(len(requirement))\n",
    "print(len(education))\n",
    "print(len(descirption))\n",
    "print(len(link))"
   ]
  },
  {
   "cell_type": "code",
   "execution_count": null,
   "metadata": {
    "tags": []
   },
   "outputs": [],
   "source": [
    "end = time.time()\n",
    "print('完成共花費',round((end - start)/60,2),'分')"
   ]
  },
  {
   "cell_type": "code",
   "execution_count": null,
   "metadata": {},
   "outputs": [],
   "source": [
    "winsound.Beep(300,500)\n",
    "winsound.Beep(360,500)\n",
    "winsound.Beep(500,500)\n",
    "winsound.PlaySound('alert', winsound.SND_ASYNC)"
   ]
  }
 ],
 "metadata": {
  "kernelspec": {
   "display_name": "base",
   "language": "python",
   "name": "python3"
  },
  "language_info": {
   "codemirror_mode": {
    "name": "ipython",
    "version": 3
   },
   "file_extension": ".py",
   "mimetype": "text/x-python",
   "name": "python",
   "nbconvert_exporter": "python",
   "pygments_lexer": "ipython3",
   "version": "3.10.13"
  },
  "orig_nbformat": 2,
  "vscode": {
   "interpreter": {
    "hash": "d542fb4b5932ef659bba1dba0712c6f5cfaa6da8306f5f43c301df680d9e5e5a"
   }
  }
 },
 "nbformat": 4,
 "nbformat_minor": 2
}
